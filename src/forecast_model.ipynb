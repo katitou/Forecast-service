{
 "cells": [
  {
   "cell_type": "code",
   "execution_count": 7,
   "metadata": {},
   "outputs": [],
   "source": [
    "import pandas as pd \n",
    "import numpy as np \n",
    "import matplotlib.pyplot as plt "
   ]
  },
  {
   "cell_type": "markdown",
   "metadata": {},
   "source": [
    ".resample() можно использовать только с индексом типа DatetimeIndex, поэтому индексируем датафрейм по Date"
   ]
  },
  {
   "cell_type": "code",
   "execution_count": 8,
   "metadata": {},
   "outputs": [
    {
     "data": {
      "text/plain": [
       "(3287, 1)"
      ]
     },
     "execution_count": 8,
     "metadata": {},
     "output_type": "execute_result"
    }
   ],
   "source": [
    "df = pd.read_csv('train.csv', index_col='Date', parse_dates=['Date'])\n",
    "df.drop(['store', 'product'], axis = 1, inplace = True)\n",
    "df = df.resample(rule='D').sum()\n",
    "\n",
    "df.shape"
   ]
  },
  {
   "cell_type": "markdown",
   "metadata": {},
   "source": [
    "Для дальнейшей работы с датасетом преобразуем столбец с датами обратно"
   ]
  },
  {
   "cell_type": "code",
   "execution_count": 9,
   "metadata": {},
   "outputs": [],
   "source": [
    "df = df.reset_index()"
   ]
  },
  {
   "cell_type": "markdown",
   "metadata": {},
   "source": [
    "приведение к типу, подходящему для statsforecast:\n",
    " "
   ]
  },
  {
   "cell_type": "code",
   "execution_count": 10,
   "metadata": {},
   "outputs": [
    {
     "data": {
      "text/html": [
       "<div>\n",
       "<style scoped>\n",
       "    .dataframe tbody tr th:only-of-type {\n",
       "        vertical-align: middle;\n",
       "    }\n",
       "\n",
       "    .dataframe tbody tr th {\n",
       "        vertical-align: top;\n",
       "    }\n",
       "\n",
       "    .dataframe thead th {\n",
       "        text-align: right;\n",
       "    }\n",
       "</style>\n",
       "<table border=\"1\" class=\"dataframe\">\n",
       "  <thead>\n",
       "    <tr style=\"text-align: right;\">\n",
       "      <th></th>\n",
       "      <th>ds</th>\n",
       "      <th>y</th>\n",
       "      <th>unique_id</th>\n",
       "    </tr>\n",
       "  </thead>\n",
       "  <tbody>\n",
       "    <tr>\n",
       "      <th>0</th>\n",
       "      <td>2010-01-01</td>\n",
       "      <td>54870</td>\n",
       "      <td>series_1</td>\n",
       "    </tr>\n",
       "    <tr>\n",
       "      <th>1</th>\n",
       "      <td>2010-01-02</td>\n",
       "      <td>54960</td>\n",
       "      <td>series_1</td>\n",
       "    </tr>\n",
       "    <tr>\n",
       "      <th>2</th>\n",
       "      <td>2010-01-03</td>\n",
       "      <td>54863</td>\n",
       "      <td>series_1</td>\n",
       "    </tr>\n",
       "    <tr>\n",
       "      <th>3</th>\n",
       "      <td>2010-01-04</td>\n",
       "      <td>54926</td>\n",
       "      <td>series_1</td>\n",
       "    </tr>\n",
       "    <tr>\n",
       "      <th>4</th>\n",
       "      <td>2010-01-05</td>\n",
       "      <td>54634</td>\n",
       "      <td>series_1</td>\n",
       "    </tr>\n",
       "  </tbody>\n",
       "</table>\n",
       "</div>"
      ],
      "text/plain": [
       "          ds      y unique_id\n",
       "0 2010-01-01  54870  series_1\n",
       "1 2010-01-02  54960  series_1\n",
       "2 2010-01-03  54863  series_1\n",
       "3 2010-01-04  54926  series_1\n",
       "4 2010-01-05  54634  series_1"
      ]
     },
     "execution_count": 10,
     "metadata": {},
     "output_type": "execute_result"
    }
   ],
   "source": [
    "df.rename(columns={'Date': 'ds', 'number_sold': 'y'}, inplace=True)\n",
    "df['unique_id'] = 'series_1'\n",
    "df.head()"
   ]
  },
  {
   "cell_type": "code",
   "execution_count": 11,
   "metadata": {},
   "outputs": [
    {
     "name": "stdout",
     "output_type": "stream",
     "text": [
      "Train data shape: (2921, 3)\n",
      "Test data shape: (365, 3)\n",
      "Horizont shape: (365,)\n"
     ]
    }
   ],
   "source": [
    "train = df.loc[df['ds'] < '2017-12-31']\n",
    "test = df.loc[(df['ds'] >= '2017-12-31') & (df['ds'] < '2018-12-31')]\n",
    "\n",
    "horizont = test['ds'].unique()\n",
    "\n",
    "print(f'Train data shape: {train.shape}')\n",
    "print(f'Test data shape: {test.shape}')\n",
    "print(f'Horizont shape: {horizont.shape}')"
   ]
  },
  {
   "cell_type": "code",
   "execution_count": 13,
   "metadata": {},
   "outputs": [
    {
     "data": {
      "text/plain": [
       "StatsForecast(models=[Naive])"
      ]
     },
     "execution_count": 13,
     "metadata": {},
     "output_type": "execute_result"
    }
   ],
   "source": [
    "from statsforecast import StatsForecast\n",
    "from statsforecast.models import Naive, SeasonalNaive, WindowAverage, SeasonalWindowAverage\n",
    "\n",
    "model = StatsForecast(models = [Naive()], \n",
    "                                # SeasonalNaive(season_length=7), \n",
    "                                # WindowAverage(window_size=7),  \n",
    "                                # SeasonalWindowAverage(window_size=4, season_length=7)], \n",
    "                    freq='D', n_jobs=-1)\n",
    "\n",
    "model.fit(train)"
   ]
  },
  {
   "cell_type": "code",
   "execution_count": 14,
   "metadata": {},
   "outputs": [
    {
     "name": "stderr",
     "output_type": "stream",
     "text": [
      "/home/kris/.local/lib/python3.12/site-packages/statsforecast/core.py:528: FutureWarning: In a future version the predictions will have the id as a column. You can set the `NIXTLA_ID_AS_COL` environment variable to adopt the new behavior and to suppress this warning.\n",
      "  warnings.warn(\n"
     ]
    },
    {
     "data": {
      "text/html": [
       "<div>\n",
       "<style scoped>\n",
       "    .dataframe tbody tr th:only-of-type {\n",
       "        vertical-align: middle;\n",
       "    }\n",
       "\n",
       "    .dataframe tbody tr th {\n",
       "        vertical-align: top;\n",
       "    }\n",
       "\n",
       "    .dataframe thead th {\n",
       "        text-align: right;\n",
       "    }\n",
       "</style>\n",
       "<table border=\"1\" class=\"dataframe\">\n",
       "  <thead>\n",
       "    <tr style=\"text-align: right;\">\n",
       "      <th></th>\n",
       "      <th>ds</th>\n",
       "      <th>Naive</th>\n",
       "      <th>original_y</th>\n",
       "    </tr>\n",
       "    <tr>\n",
       "      <th>unique_id</th>\n",
       "      <th></th>\n",
       "      <th></th>\n",
       "      <th></th>\n",
       "    </tr>\n",
       "  </thead>\n",
       "  <tbody>\n",
       "    <tr>\n",
       "      <th>series_1</th>\n",
       "      <td>2018-12-31</td>\n",
       "      <td>55355.0</td>\n",
       "      <td>55255</td>\n",
       "    </tr>\n",
       "    <tr>\n",
       "      <th>series_1</th>\n",
       "      <td>2019-01-01</td>\n",
       "      <td>55355.0</td>\n",
       "      <td>55103</td>\n",
       "    </tr>\n",
       "    <tr>\n",
       "      <th>series_1</th>\n",
       "      <td>2019-01-02</td>\n",
       "      <td>55355.0</td>\n",
       "      <td>54995</td>\n",
       "    </tr>\n",
       "    <tr>\n",
       "      <th>series_1</th>\n",
       "      <td>2019-01-03</td>\n",
       "      <td>55355.0</td>\n",
       "      <td>54837</td>\n",
       "    </tr>\n",
       "    <tr>\n",
       "      <th>series_1</th>\n",
       "      <td>2019-01-04</td>\n",
       "      <td>55355.0</td>\n",
       "      <td>54975</td>\n",
       "    </tr>\n",
       "  </tbody>\n",
       "</table>\n",
       "</div>"
      ],
      "text/plain": [
       "                  ds    Naive  original_y\n",
       "unique_id                                \n",
       "series_1  2018-12-31  55355.0       55255\n",
       "series_1  2019-01-01  55355.0       55103\n",
       "series_1  2019-01-02  55355.0       54995\n",
       "series_1  2019-01-03  55355.0       54837\n",
       "series_1  2019-01-04  55355.0       54975"
      ]
     },
     "execution_count": 14,
     "metadata": {},
     "output_type": "execute_result"
    }
   ],
   "source": [
    "forecasts_df = model.forecast(df=test, h=365)\n",
    "forecasts_df['original_y'] = test['y'].values\n",
    "forecasts_df.head()"
   ]
  },
  {
   "cell_type": "markdown",
   "metadata": {},
   "source": [
    "# MAPE"
   ]
  },
  {
   "cell_type": "code",
   "execution_count": 15,
   "metadata": {},
   "outputs": [],
   "source": [
    "def mape(y_true, y_pred):\n",
    "    return np.mean(np.abs((y_true - y_pred) / y_true)) * 100"
   ]
  },
  {
   "cell_type": "code",
   "execution_count": 17,
   "metadata": {},
   "outputs": [
    {
     "name": "stdout",
     "output_type": "stream",
     "text": [
      "MAPE Naive: 0.65%\n"
     ]
    }
   ],
   "source": [
    "methods = {\n",
    "    'Naive': forecasts_df['Naive']\n",
    "    # 'SeasonalNaive': forecasts_df['SeasonalNaive'],\n",
    "    # 'WindowAverage': forecasts_df['WindowAverage'],\n",
    "    # 'SeasonalWindowAverage': forecasts_df['SeasWA']\n",
    "}\n",
    "\n",
    "for method_name, predictions in methods.items():\n",
    "    error = mape(forecasts_df['original_y'], predictions)\n",
    "    print(f\"MAPE {method_name}: {error:.2f}%\")\n"
   ]
  },
  {
   "cell_type": "code",
   "execution_count": 18,
   "metadata": {},
   "outputs": [
    {
     "data": {
      "text/plain": [
       "['model.pkl']"
      ]
     },
     "execution_count": 18,
     "metadata": {},
     "output_type": "execute_result"
    }
   ],
   "source": [
    "import joblib\n",
    "\n",
    "joblib.dump(model, 'naive_model.pkl')"
   ]
  }
 ],
 "metadata": {
  "kernelspec": {
   "display_name": "Python 3",
   "language": "python",
   "name": "python3"
  },
  "language_info": {
   "codemirror_mode": {
    "name": "ipython",
    "version": 3
   },
   "file_extension": ".py",
   "mimetype": "text/x-python",
   "name": "python",
   "nbconvert_exporter": "python",
   "pygments_lexer": "ipython3",
   "version": "3.12.5"
  }
 },
 "nbformat": 4,
 "nbformat_minor": 2
}
